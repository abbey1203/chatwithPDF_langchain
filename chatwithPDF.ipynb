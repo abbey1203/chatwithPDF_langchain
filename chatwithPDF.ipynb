{
  "nbformat": 4,
  "nbformat_minor": 0,
  "metadata": {
    "colab": {
      "provenance": []
    },
    "kernelspec": {
      "name": "python3",
      "display_name": "Python 3"
    },
    "language_info": {
      "name": "python"
    }
  },
  "cells": [
    {
      "cell_type": "code",
      "execution_count": null,
      "metadata": {
        "id": "0oXy5balYQBe"
      },
      "outputs": [],
      "source": [
        "! pip install openai langchain unstructured chromadb Cython tiktoken pypdf"
      ]
    },
    {
      "cell_type": "code",
      "source": [
        "#Loading all the library and packages\n",
        "\n",
        "import os\n",
        "from langchain.llms import OpenAI\n",
        "from langchain.document_loaders import PyPDFDirectoryLoader, PyPDFLoader\n",
        "\n",
        "from langchain.embeddings import OpenAIEmbeddings\n",
        "from langchain.vectorstores import Chroma\n",
        "\n",
        "from langchain.chains import ConversationalRetrievalChain\n",
        "from langchain.memory import ConversationBufferMemory\n",
        "\n",
        "\n",
        "os.environ[\"OPENAI_API_KEY\"] = 'your_openai_api_key'\n",
        "\n",
        "davinci = OpenAI(model_name='text-davinci-003')"
      ],
      "metadata": {
        "id": "u2XYAFeeYfzL"
      },
      "execution_count": 45,
      "outputs": []
    },
    {
      "cell_type": "code",
      "source": [
        "#Mount Google Drive\n",
        "from google.colab import drive\n",
        "drive.mount('/content/drive')\n",
        "file1= '/content/drive/MyDrive/sample-statement-of-work.pdf'"
      ],
      "metadata": {
        "colab": {
          "base_uri": "https://localhost:8080/"
        },
        "id": "yPtuUCreZRUw",
        "outputId": "0977beb8-ece6-42f0-bb80-f6178c106fe5"
      },
      "execution_count": 51,
      "outputs": [
        {
          "output_type": "stream",
          "name": "stdout",
          "text": [
            "Drive already mounted at /content/drive; to attempt to forcibly remount, call drive.mount(\"/content/drive\", force_remount=True).\n"
          ]
        }
      ]
    },
    {
      "cell_type": "code",
      "source": [
        "#Read the PDF File\n",
        "loader = PyPDFLoader(file1)\n",
        "sample_doc = loader.load()"
      ],
      "metadata": {
        "id": "RLhrYC3CZNNR"
      },
      "execution_count": 52,
      "outputs": []
    },
    {
      "cell_type": "code",
      "source": [
        "# Get OpenAI embeddings and create the vector database\n",
        "#Use OpenAI embeddings\n",
        "embeddings = OpenAIEmbeddings()\n",
        "\n",
        "# create a vector database using the sample document\n",
        "vectordb = Chroma.from_documents(\n",
        "    documents=sample_doc, embedding=embeddings, persist_directory=\"chromadb\"\n",
        ")\n",
        "\n",
        "vectordb.persist()"
      ],
      "metadata": {
        "id": "cL-ID_MAJEEm"
      },
      "execution_count": 53,
      "outputs": []
    },
    {
      "cell_type": "code",
      "source": [
        "# create the conversation and loop\n",
        "\n",
        "memory = ConversationBufferMemory(memory_key=\"chat_history\", return_messages=True)\n",
        "pdf_chat = ConversationalRetrievalChain.from_llm(OpenAI(temperature=0.8) , vectordb.as_retriever(), memory=memory)\n",
        "while True:\n",
        "    line = input(\"Enter a question: \")\n",
        "    if line == \"\":\n",
        "        break\n",
        "    result = pdf_chat({\"question\": line})\n",
        "    print(f\"Answer: {result['answer']}\")"
      ],
      "metadata": {
        "colab": {
          "base_uri": "https://localhost:8080/"
        },
        "id": "Vbsl6p_KJEKH",
        "outputId": "6d997784-53e2-41c5-ece4-bdfb0232e6a3"
      },
      "execution_count": null,
      "outputs": [
        {
          "output_type": "stream",
          "name": "stdout",
          "text": [
            "Enter a question: what is fees?\n",
            "Answer:  Fees are payments for goods or services. In this context, fees refer to payments for services provided by Globex, such as consulting services, and payments for specific customer transactions like international money transfers.\n",
            "Enter a question: what are the rates?\n",
            "Answer:  The fees/rates for services provided by Globex are €1,200/day for developers, consultants, test managers, education trainers, and project managers. The fees/rates for customer transactions such as international money transfers are not specified in the context.\n",
            "Enter a question: can you calculate the average fees?\n",
            "Answer:  The average fee for services provided by Globex is €1,200 per day. The fee for customer transactions such as international money transfers is not specified in this document.\n",
            "Enter a question: list out all the risk\n",
            "Answer:  The identified risks associated with this project are adoption of the software, deployment of changes, and resource availability.\n"
          ]
        }
      ]
    }
  ]
}